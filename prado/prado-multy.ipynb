{
 "cells": [
  {
   "cell_type": "code",
   "execution_count": 1,
   "metadata": {
    "collapsed": true
   },
   "outputs": [],
   "source": [
    "import matplotlib.pyplot as plt\n",
    "import pandas as pd\n",
    "\n",
    "# функция, позволяющая выводить графики прямо в ноутбук\n",
    "%matplotlib inline"
   ]
  },
  {
   "cell_type": "code",
   "execution_count": 20,
   "outputs": [
    {
     "data": {
      "text/plain": "(1220, 15)"
     },
     "execution_count": 20,
     "metadata": {},
     "output_type": "execute_result"
    }
   ],
   "source": [
    "# Удалим строки с отменнеными ордерами\n",
    "data = pd.read_csv('prado_multy_22122022.csv', delimiter=';')\n",
    "data.shape\n",
    "data_without_cancelled = data[(data['Commission'] != 'cancelled')]\n",
    "data_without_cancelled.shape"
   ],
   "metadata": {
    "collapsed": false
   }
  },
  {
   "cell_type": "code",
   "execution_count": 21,
   "outputs": [
    {
     "data": {
      "text/plain": "Index(['Ticket', 'Open Time', 'Type', 'Size', 'Item', 'Price', 'S / L',\n       'T / P', 'Close Time', 'Price.1', 'Commission', 'Taxes', 'Swap',\n       'Profit', 'Unnamed: 14'],\n      dtype='object')"
     },
     "execution_count": 21,
     "metadata": {},
     "output_type": "execute_result"
    }
   ],
   "source": [
    "data.columns\n",
    "# Выведем все колонки"
   ],
   "metadata": {
    "collapsed": false
   }
  },
  {
   "cell_type": "code",
   "execution_count": 65,
   "outputs": [
    {
     "data": {
      "text/plain": "   Size    Item Commission  Swap  Profit\n0  0.33  usdjpy      -2,31  0,00   62,60\n1  0.33  usdjpy      -2,31  0,00   12,40\n2  0.31  usdjpy      -2,17  0,00  -74,96\n3  0.31  usdjpy      -2,17  0,00  -74,96\n4  0.30  usdjpy      -2,10  0,00   72,35",
      "text/html": "<div>\n<style scoped>\n    .dataframe tbody tr th:only-of-type {\n        vertical-align: middle;\n    }\n\n    .dataframe tbody tr th {\n        vertical-align: top;\n    }\n\n    .dataframe thead th {\n        text-align: right;\n    }\n</style>\n<table border=\"1\" class=\"dataframe\">\n  <thead>\n    <tr style=\"text-align: right;\">\n      <th></th>\n      <th>Size</th>\n      <th>Item</th>\n      <th>Commission</th>\n      <th>Swap</th>\n      <th>Profit</th>\n    </tr>\n  </thead>\n  <tbody>\n    <tr>\n      <th>0</th>\n      <td>0.33</td>\n      <td>usdjpy</td>\n      <td>-2,31</td>\n      <td>0,00</td>\n      <td>62,60</td>\n    </tr>\n    <tr>\n      <th>1</th>\n      <td>0.33</td>\n      <td>usdjpy</td>\n      <td>-2,31</td>\n      <td>0,00</td>\n      <td>12,40</td>\n    </tr>\n    <tr>\n      <th>2</th>\n      <td>0.31</td>\n      <td>usdjpy</td>\n      <td>-2,17</td>\n      <td>0,00</td>\n      <td>-74,96</td>\n    </tr>\n    <tr>\n      <th>3</th>\n      <td>0.31</td>\n      <td>usdjpy</td>\n      <td>-2,17</td>\n      <td>0,00</td>\n      <td>-74,96</td>\n    </tr>\n    <tr>\n      <th>4</th>\n      <td>0.30</td>\n      <td>usdjpy</td>\n      <td>-2,10</td>\n      <td>0,00</td>\n      <td>72,35</td>\n    </tr>\n  </tbody>\n</table>\n</div>"
     },
     "execution_count": 65,
     "metadata": {},
     "output_type": "execute_result"
    }
   ],
   "source": [
    "# Удаляем лишние колонки\n",
    "data_clear_columns = data_without_cancelled.drop(['Ticket', 'Open Time', 'Type', 'Price', 'S / L',\n",
    "       'T / P', 'Close Time', 'Price.1', 'Taxes', 'Unnamed: 14'], axis=1)\n",
    "df = pd.DataFrame(data_clear_columns, columns=['Commission', 'Swap', 'Profit'])\n",
    "df['Commission1'] = df['Commission'].str.replace(',', '.')\n",
    "                              # data_clear_columns['Swap'].replace(',', '.') +\\\n",
    "                              # data_clear_columns['Profit'].replace(',', '.')\n",
    "data_clear_columns.head()\n"
   ],
   "metadata": {
    "collapsed": false
   }
  },
  {
   "cell_type": "code",
   "execution_count": 41,
   "outputs": [
    {
     "name": "stdout",
     "output_type": "stream",
     "text": [
      "262 , 272\n"
     ]
    }
   ],
   "source": [
    "data_usdjpy = data_clear_columns[(data_clear_columns['Item'] == 'usdjpy')]\n",
    "data_cadjpy = data_clear_columns[(data_clear_columns['Item'] == 'cadjpy')]\n",
    "amount_usdjpy = data_usdjpy.shape\n",
    "amount_cadjpy = data_cadjpy.shape\n",
    "print(amount_usdjpy[0],',', amount_cadjpy[0])\n",
    "# Количество сделок по американскому и канадскому доллару"
   ],
   "metadata": {
    "collapsed": false
   }
  },
  {
   "cell_type": "code",
   "execution_count": null,
   "outputs": [],
   "source": [],
   "metadata": {
    "collapsed": false
   }
  }
 ],
 "metadata": {
  "kernelspec": {
   "display_name": "Python 3",
   "language": "python",
   "name": "python3"
  },
  "language_info": {
   "codemirror_mode": {
    "name": "ipython",
    "version": 2
   },
   "file_extension": ".py",
   "mimetype": "text/x-python",
   "name": "python",
   "nbconvert_exporter": "python",
   "pygments_lexer": "ipython2",
   "version": "2.7.6"
  }
 },
 "nbformat": 4,
 "nbformat_minor": 0
}
